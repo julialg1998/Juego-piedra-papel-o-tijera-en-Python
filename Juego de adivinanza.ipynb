{
 "cells": [
  {
   "cell_type": "code",
   "execution_count": 3,
   "metadata": {},
   "outputs": [
    {
     "name": "stdout",
     "output_type": "stream",
     "text": [
      "Bienvenido al juego de adivinar el número secreto!\n",
      "El número secreto es mayor al ingresado\n",
      "El número secreto es mayor al ingresado\n",
      "El número secreto es mayor al ingresado\n",
      "El número secreto es mayor al ingresado\n",
      "El número secreto es mayor al ingresado\n",
      "Game over! No has podido adivinar dentro de los 5 intentos\n"
     ]
    }
   ],
   "source": [
    "import random\n",
    "\n",
    "numero_secreto = random.randint(1,100)\n",
    "cant_intentos = 0\n",
    "cant_max_intentos = 5\n",
    "adivinado = False\n",
    "\n",
    "print(\"Bienvenido al juego de adivinar el número secreto!\")\n",
    "\n",
    "while not adivinado:\n",
    "    if not cant_intentos < cant_max_intentos:\n",
    "        print(\"Game over! No has podido adivinar dentro de los 5 intentos\")\n",
    "        break\n",
    "\n",
    "    entrada = input(\"Introduce un número del 1 al 99: \")\n",
    "    numero = int(entrada)\n",
    "\n",
    "    if numero == numero_secreto:\n",
    "        print(\"Felicitacioneshas adivinado el número secreto\")\n",
    "        adivinado = True\n",
    "    elif numero < numero_secreto:\n",
    "        print(\"El número secreto es mayor al ingresado\")\n",
    "    else: \n",
    "         print(\"El número secreto es menor al ingresado\")\n",
    "\n",
    "    cant_intentos += 1\n"
   ]
  }
 ],
 "metadata": {
  "kernelspec": {
   "display_name": "Python 3",
   "language": "python",
   "name": "python3"
  },
  "language_info": {
   "codemirror_mode": {
    "name": "ipython",
    "version": 3
   },
   "file_extension": ".py",
   "mimetype": "text/x-python",
   "name": "python",
   "nbconvert_exporter": "python",
   "pygments_lexer": "ipython3",
   "version": "3.12.4"
  }
 },
 "nbformat": 4,
 "nbformat_minor": 2
}
