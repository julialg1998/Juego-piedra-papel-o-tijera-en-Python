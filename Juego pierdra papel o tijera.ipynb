{
 "cells": [
  {
   "cell_type": "code",
   "execution_count": 1,
   "metadata": {},
   "outputs": [
    {
     "name": "stdout",
     "output_type": "stream",
     "text": [
      "Ha ganado:  julia\n"
     ]
    }
   ],
   "source": [
    "nombre1 = input(\"Como se llamará el jugador 1?: \") \n",
    "nombre2 = input(\"Como se llamará el jugador 2?: \") \n",
    "\n",
    "jugador1= input(\"Hola jugador 1, que eliges? piedra, papel o tijera?: \")\n",
    "jugador2= input(\"Hola jugador 2, que eliges? piedra, papel o tijera?: \")\n",
    "\n",
    "condicion1= jugador1== \"piedra\" and jugador2==\"tijera\"\n",
    "condicion2= jugador1== \"papel\" and jugador2==\"piedra\"\n",
    "condicion3= jugador1== \"tijera\" and jugador2==\"papel\"\n",
    "\n",
    "if jugador1==jugador2:\n",
    "    print(\"Ha sido un empate!\")\n",
    "elif condicion1 or condicion2 or condicion3:\n",
    "    print(\"Ha ganado: \", nombre1)\n",
    "else:\n",
    "    print(\"Ha ganado: \", nombre2)\n"
   ]
  }
 ],
 "metadata": {
  "kernelspec": {
   "display_name": "Python 3",
   "language": "python",
   "name": "python3"
  },
  "language_info": {
   "codemirror_mode": {
    "name": "ipython",
    "version": 3
   },
   "file_extension": ".py",
   "mimetype": "text/x-python",
   "name": "python",
   "nbconvert_exporter": "python",
   "pygments_lexer": "ipython3",
   "version": "3.12.4"
  }
 },
 "nbformat": 4,
 "nbformat_minor": 2
}
